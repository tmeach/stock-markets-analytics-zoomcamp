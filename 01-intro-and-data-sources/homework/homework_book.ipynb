{
 "cells": [
  {
   "cell_type": "markdown",
   "id": "f4e427c8",
   "metadata": {},
   "source": [
    "## Module 1 Homework\n",
    "In this homework, we're going to download finance data from various sources and make simple calculations/analysis.\n",
    "\n"
   ]
  },
  {
   "cell_type": "markdown",
   "id": "59f26705",
   "metadata": {},
   "source": [
    "## Question 1: [Macro] Average growth of GDP in 2023\n",
    "### What is the average growth (in %) of GDP in 2023?\n",
    "\n",
    "Download the timeseries Real Gross Domestic Product (GDPC1) from FRED (https://fred.stlouisfed.org/series/GDPC1). Calculate year-over-year (YoY) growth rate (that is, divide current value to one 4 quarters ago). Find the average YoY growth in 2023 (average from 4 YoY numbers). Round to 1 digit after the decimal point: e.g. if you get 5.66% growth => you should answer 5.7"
   ]
  },
  {
   "cell_type": "code",
   "execution_count": 10,
   "id": "edb8daab",
   "metadata": {},
   "outputs": [],
   "source": [
    "import pandas as pd\n",
    "import pandas_datareader as pd \n",
    "\n",
    "import time\n",
    "from datetime import date"
   ]
  },
  {
   "cell_type": "code",
   "execution_count": 12,
   "id": "1bc9dc2c",
   "metadata": {},
   "outputs": [],
   "source": [
    "end = date.today()\n",
    "start = date(year=end.year-70, month=end.month, day=end.day)"
   ]
  },
  {
   "cell_type": "code",
   "execution_count": 15,
   "id": "5cc18ddc",
   "metadata": {},
   "outputs": [
    {
     "data": {
      "text/html": [
       "<div>\n",
       "<style scoped>\n",
       "    .dataframe tbody tr th:only-of-type {\n",
       "        vertical-align: middle;\n",
       "    }\n",
       "\n",
       "    .dataframe tbody tr th {\n",
       "        vertical-align: top;\n",
       "    }\n",
       "\n",
       "    .dataframe thead th {\n",
       "        text-align: right;\n",
       "    }\n",
       "</style>\n",
       "<table border=\"1\" class=\"dataframe\">\n",
       "  <thead>\n",
       "    <tr style=\"text-align: right;\">\n",
       "      <th></th>\n",
       "      <th>GDPC1</th>\n",
       "    </tr>\n",
       "    <tr>\n",
       "      <th>DATE</th>\n",
       "      <th></th>\n",
       "    </tr>\n",
       "  </thead>\n",
       "  <tbody>\n",
       "    <tr>\n",
       "      <th>1954-07-01</th>\n",
       "      <td>2880.482</td>\n",
       "    </tr>\n",
       "    <tr>\n",
       "      <th>1954-10-01</th>\n",
       "      <td>2936.852</td>\n",
       "    </tr>\n",
       "    <tr>\n",
       "      <th>1955-01-01</th>\n",
       "      <td>3020.746</td>\n",
       "    </tr>\n",
       "    <tr>\n",
       "      <th>1955-04-01</th>\n",
       "      <td>3069.910</td>\n",
       "    </tr>\n",
       "    <tr>\n",
       "      <th>1955-07-01</th>\n",
       "      <td>3111.379</td>\n",
       "    </tr>\n",
       "  </tbody>\n",
       "</table>\n",
       "</div>"
      ],
      "text/plain": [
       "               GDPC1\n",
       "DATE                \n",
       "1954-07-01  2880.482\n",
       "1954-10-01  2936.852\n",
       "1955-01-01  3020.746\n",
       "1955-04-01  3069.910\n",
       "1955-07-01  3111.379"
      ]
     },
     "execution_count": 15,
     "metadata": {},
     "output_type": "execute_result"
    }
   ],
   "source": [
    "df = pdr.DataReader('GDPC1', 'fred', start=start, end=end)\n",
    "df.head()"
   ]
  },
  {
   "cell_type": "code",
   "execution_count": 16,
   "id": "c3539478",
   "metadata": {},
   "outputs": [
    {
     "data": {
      "text/html": [
       "<div>\n",
       "<style scoped>\n",
       "    .dataframe tbody tr th:only-of-type {\n",
       "        vertical-align: middle;\n",
       "    }\n",
       "\n",
       "    .dataframe tbody tr th {\n",
       "        vertical-align: top;\n",
       "    }\n",
       "\n",
       "    .dataframe thead th {\n",
       "        text-align: right;\n",
       "    }\n",
       "</style>\n",
       "<table border=\"1\" class=\"dataframe\">\n",
       "  <thead>\n",
       "    <tr style=\"text-align: right;\">\n",
       "      <th></th>\n",
       "      <th>GDPC1</th>\n",
       "      <th>YoY</th>\n",
       "    </tr>\n",
       "    <tr>\n",
       "      <th>DATE</th>\n",
       "      <th></th>\n",
       "      <th></th>\n",
       "    </tr>\n",
       "  </thead>\n",
       "  <tbody>\n",
       "    <tr>\n",
       "      <th>1954-07-01</th>\n",
       "      <td>2880.482</td>\n",
       "      <td>NaN</td>\n",
       "    </tr>\n",
       "    <tr>\n",
       "      <th>1954-10-01</th>\n",
       "      <td>2936.852</td>\n",
       "      <td>NaN</td>\n",
       "    </tr>\n",
       "    <tr>\n",
       "      <th>1955-01-01</th>\n",
       "      <td>3020.746</td>\n",
       "      <td>NaN</td>\n",
       "    </tr>\n",
       "    <tr>\n",
       "      <th>1955-04-01</th>\n",
       "      <td>3069.910</td>\n",
       "      <td>NaN</td>\n",
       "    </tr>\n",
       "    <tr>\n",
       "      <th>1955-07-01</th>\n",
       "      <td>3111.379</td>\n",
       "      <td>0.080159</td>\n",
       "    </tr>\n",
       "  </tbody>\n",
       "</table>\n",
       "</div>"
      ],
      "text/plain": [
       "               GDPC1       YoY\n",
       "DATE                          \n",
       "1954-07-01  2880.482       NaN\n",
       "1954-10-01  2936.852       NaN\n",
       "1955-01-01  3020.746       NaN\n",
       "1955-04-01  3069.910       NaN\n",
       "1955-07-01  3111.379  0.080159"
      ]
     },
     "execution_count": 16,
     "metadata": {},
     "output_type": "execute_result"
    }
   ],
   "source": [
    "# YoY growth\n",
    "df['YoY'] = df['GDPC1'] / df['GDPC1'].shift(4) - 1\n",
    "df.head()"
   ]
  },
  {
   "cell_type": "code",
   "execution_count": 19,
   "id": "e27f7b61",
   "metadata": {},
   "outputs": [
    {
     "data": {
      "text/html": [
       "<div>\n",
       "<style scoped>\n",
       "    .dataframe tbody tr th:only-of-type {\n",
       "        vertical-align: middle;\n",
       "    }\n",
       "\n",
       "    .dataframe tbody tr th {\n",
       "        vertical-align: top;\n",
       "    }\n",
       "\n",
       "    .dataframe thead th {\n",
       "        text-align: right;\n",
       "    }\n",
       "</style>\n",
       "<table border=\"1\" class=\"dataframe\">\n",
       "  <thead>\n",
       "    <tr style=\"text-align: right;\">\n",
       "      <th></th>\n",
       "      <th>GDPC1</th>\n",
       "      <th>YoY</th>\n",
       "    </tr>\n",
       "    <tr>\n",
       "      <th>DATE</th>\n",
       "      <th></th>\n",
       "      <th></th>\n",
       "    </tr>\n",
       "  </thead>\n",
       "  <tbody>\n",
       "    <tr>\n",
       "      <th>2023-01-01</th>\n",
       "      <td>22112.329</td>\n",
       "      <td>0.017179</td>\n",
       "    </tr>\n",
       "    <tr>\n",
       "      <th>2023-04-01</th>\n",
       "      <td>22225.350</td>\n",
       "      <td>0.023825</td>\n",
       "    </tr>\n",
       "    <tr>\n",
       "      <th>2023-07-01</th>\n",
       "      <td>22490.692</td>\n",
       "      <td>0.029269</td>\n",
       "    </tr>\n",
       "    <tr>\n",
       "      <th>2023-10-01</th>\n",
       "      <td>22679.255</td>\n",
       "      <td>0.031345</td>\n",
       "    </tr>\n",
       "  </tbody>\n",
       "</table>\n",
       "</div>"
      ],
      "text/plain": [
       "                GDPC1       YoY\n",
       "DATE                           \n",
       "2023-01-01  22112.329  0.017179\n",
       "2023-04-01  22225.350  0.023825\n",
       "2023-07-01  22490.692  0.029269\n",
       "2023-10-01  22679.255  0.031345"
      ]
     },
     "execution_count": 19,
     "metadata": {},
     "output_type": "execute_result"
    }
   ],
   "source": [
    "# filtered only 2023 year\n",
    "df_2023 = df.loc['2023-01-01':'2023-12-31']\n",
    "df_2023.head()"
   ]
  },
  {
   "cell_type": "code",
   "execution_count": 21,
   "id": "48b7c8f5",
   "metadata": {},
   "outputs": [
    {
     "name": "stdout",
     "output_type": "stream",
     "text": [
      "Average growth of GDP in 2023: 2.5%\n"
     ]
    }
   ],
   "source": [
    "average_yoy_2023 = df_2023['YoY'].mean()\n",
    "\n",
    "# round\n",
    "average_yoy_2023_rounded = round(average_yoy_2023 * 100, 1)\n",
    "\n",
    "print(\"Average growth of GDP in 2023: {}%\".format(average_yoy_2023_rounded))"
   ]
  },
  {
   "cell_type": "markdown",
   "id": "c813e319",
   "metadata": {},
   "source": [
    "### Answer:\n",
    "- 2.5"
   ]
  },
  {
   "cell_type": "markdown",
   "id": "559c86c4",
   "metadata": {},
   "source": [
    "## Question 2. [Macro] Inverse \"Treasury Yield\"\n",
    "### Find the min value of (dgs10-dgs2) after since year 2000 (2000-01-01) and write it down as an answer, round to 1 digit after the decimal point.\n",
    "\n",
    "Download DGS2 and DGS10 interest rates series (https://fred.stlouisfed.org/series/DGS2, https://fred.stlouisfed.org/series/DGS10). Join them together to one dataframe on date (you might need to read about pandas.DataFrame.join()), calculate the difference dgs10-dgs2 daily.\n",
    "\n",
    "(Additional: think about what does the \"inverted yield curve\" mean for the market and investors? do you see the same thing in your country/market of interest? Do you think it can be a good predictive feature for the models?)"
   ]
  },
  {
   "cell_type": "code",
   "execution_count": 28,
   "id": "28c3a03c",
   "metadata": {},
   "outputs": [],
   "source": [
    "end = date.today()\n",
    "start = '2000-01-01'"
   ]
  },
  {
   "cell_type": "code",
   "execution_count": 29,
   "id": "5c758600",
   "metadata": {},
   "outputs": [
    {
     "data": {
      "text/plain": [
       "'2000-01-01'"
      ]
     },
     "execution_count": 29,
     "metadata": {},
     "output_type": "execute_result"
    }
   ],
   "source": [
    "start"
   ]
  },
  {
   "cell_type": "code",
   "execution_count": 39,
   "id": "cc96d8cd",
   "metadata": {},
   "outputs": [
    {
     "data": {
      "text/html": [
       "<div>\n",
       "<style scoped>\n",
       "    .dataframe tbody tr th:only-of-type {\n",
       "        vertical-align: middle;\n",
       "    }\n",
       "\n",
       "    .dataframe tbody tr th {\n",
       "        vertical-align: top;\n",
       "    }\n",
       "\n",
       "    .dataframe thead th {\n",
       "        text-align: right;\n",
       "    }\n",
       "</style>\n",
       "<table border=\"1\" class=\"dataframe\">\n",
       "  <thead>\n",
       "    <tr style=\"text-align: right;\">\n",
       "      <th></th>\n",
       "      <th>DGS2</th>\n",
       "    </tr>\n",
       "    <tr>\n",
       "      <th>DATE</th>\n",
       "      <th></th>\n",
       "    </tr>\n",
       "  </thead>\n",
       "  <tbody>\n",
       "    <tr>\n",
       "      <th>2000-01-03</th>\n",
       "      <td>6.38</td>\n",
       "    </tr>\n",
       "    <tr>\n",
       "      <th>2000-01-04</th>\n",
       "      <td>6.30</td>\n",
       "    </tr>\n",
       "    <tr>\n",
       "      <th>2000-01-05</th>\n",
       "      <td>6.38</td>\n",
       "    </tr>\n",
       "    <tr>\n",
       "      <th>2000-01-06</th>\n",
       "      <td>6.35</td>\n",
       "    </tr>\n",
       "    <tr>\n",
       "      <th>2000-01-07</th>\n",
       "      <td>6.31</td>\n",
       "    </tr>\n",
       "    <tr>\n",
       "      <th>...</th>\n",
       "      <td>...</td>\n",
       "    </tr>\n",
       "    <tr>\n",
       "      <th>2024-04-17</th>\n",
       "      <td>4.93</td>\n",
       "    </tr>\n",
       "    <tr>\n",
       "      <th>2024-04-18</th>\n",
       "      <td>4.98</td>\n",
       "    </tr>\n",
       "    <tr>\n",
       "      <th>2024-04-19</th>\n",
       "      <td>4.97</td>\n",
       "    </tr>\n",
       "    <tr>\n",
       "      <th>2024-04-22</th>\n",
       "      <td>4.97</td>\n",
       "    </tr>\n",
       "    <tr>\n",
       "      <th>2024-04-23</th>\n",
       "      <td>4.86</td>\n",
       "    </tr>\n",
       "  </tbody>\n",
       "</table>\n",
       "<p>6342 rows × 1 columns</p>\n",
       "</div>"
      ],
      "text/plain": [
       "            DGS2\n",
       "DATE            \n",
       "2000-01-03  6.38\n",
       "2000-01-04  6.30\n",
       "2000-01-05  6.38\n",
       "2000-01-06  6.35\n",
       "2000-01-07  6.31\n",
       "...          ...\n",
       "2024-04-17  4.93\n",
       "2024-04-18  4.98\n",
       "2024-04-19  4.97\n",
       "2024-04-22  4.97\n",
       "2024-04-23  4.86\n",
       "\n",
       "[6342 rows x 1 columns]"
      ]
     },
     "execution_count": 39,
     "metadata": {},
     "output_type": "execute_result"
    }
   ],
   "source": [
    "df_dgs2 = pdr.DataReader('DGS2', 'fred', start=start, end=end)\n",
    "\n",
    "df_dgs2"
   ]
  },
  {
   "cell_type": "code",
   "execution_count": 33,
   "id": "2a24d7fc",
   "metadata": {},
   "outputs": [
    {
     "data": {
      "text/html": [
       "<div>\n",
       "<style scoped>\n",
       "    .dataframe tbody tr th:only-of-type {\n",
       "        vertical-align: middle;\n",
       "    }\n",
       "\n",
       "    .dataframe tbody tr th {\n",
       "        vertical-align: top;\n",
       "    }\n",
       "\n",
       "    .dataframe thead th {\n",
       "        text-align: right;\n",
       "    }\n",
       "</style>\n",
       "<table border=\"1\" class=\"dataframe\">\n",
       "  <thead>\n",
       "    <tr style=\"text-align: right;\">\n",
       "      <th></th>\n",
       "      <th>DGS10</th>\n",
       "    </tr>\n",
       "    <tr>\n",
       "      <th>DATE</th>\n",
       "      <th></th>\n",
       "    </tr>\n",
       "  </thead>\n",
       "  <tbody>\n",
       "    <tr>\n",
       "      <th>2000-01-03</th>\n",
       "      <td>6.58</td>\n",
       "    </tr>\n",
       "    <tr>\n",
       "      <th>2000-01-04</th>\n",
       "      <td>6.49</td>\n",
       "    </tr>\n",
       "    <tr>\n",
       "      <th>2000-01-05</th>\n",
       "      <td>6.62</td>\n",
       "    </tr>\n",
       "    <tr>\n",
       "      <th>2000-01-06</th>\n",
       "      <td>6.57</td>\n",
       "    </tr>\n",
       "    <tr>\n",
       "      <th>2000-01-07</th>\n",
       "      <td>6.52</td>\n",
       "    </tr>\n",
       "    <tr>\n",
       "      <th>...</th>\n",
       "      <td>...</td>\n",
       "    </tr>\n",
       "    <tr>\n",
       "      <th>2024-04-16</th>\n",
       "      <td>4.67</td>\n",
       "    </tr>\n",
       "    <tr>\n",
       "      <th>2024-04-17</th>\n",
       "      <td>4.59</td>\n",
       "    </tr>\n",
       "    <tr>\n",
       "      <th>2024-04-18</th>\n",
       "      <td>4.64</td>\n",
       "    </tr>\n",
       "    <tr>\n",
       "      <th>2024-04-19</th>\n",
       "      <td>4.62</td>\n",
       "    </tr>\n",
       "    <tr>\n",
       "      <th>2024-04-22</th>\n",
       "      <td>4.62</td>\n",
       "    </tr>\n",
       "  </tbody>\n",
       "</table>\n",
       "<p>6341 rows × 1 columns</p>\n",
       "</div>"
      ],
      "text/plain": [
       "            DGS10\n",
       "DATE             \n",
       "2000-01-03   6.58\n",
       "2000-01-04   6.49\n",
       "2000-01-05   6.62\n",
       "2000-01-06   6.57\n",
       "2000-01-07   6.52\n",
       "...           ...\n",
       "2024-04-16   4.67\n",
       "2024-04-17   4.59\n",
       "2024-04-18   4.64\n",
       "2024-04-19   4.62\n",
       "2024-04-22   4.62\n",
       "\n",
       "[6341 rows x 1 columns]"
      ]
     },
     "execution_count": 33,
     "metadata": {},
     "output_type": "execute_result"
    }
   ],
   "source": [
    "df_dgs10 = pdr.DataReader('DGS10', 'fred', start=start, end=end)\n",
    "\n",
    "df_dgs10"
   ]
  },
  {
   "cell_type": "code",
   "execution_count": 40,
   "id": "589d2fc4",
   "metadata": {},
   "outputs": [
    {
     "data": {
      "text/html": [
       "<div>\n",
       "<style scoped>\n",
       "    .dataframe tbody tr th:only-of-type {\n",
       "        vertical-align: middle;\n",
       "    }\n",
       "\n",
       "    .dataframe tbody tr th {\n",
       "        vertical-align: top;\n",
       "    }\n",
       "\n",
       "    .dataframe thead th {\n",
       "        text-align: right;\n",
       "    }\n",
       "</style>\n",
       "<table border=\"1\" class=\"dataframe\">\n",
       "  <thead>\n",
       "    <tr style=\"text-align: right;\">\n",
       "      <th></th>\n",
       "      <th>DGS2</th>\n",
       "      <th>DGS10</th>\n",
       "    </tr>\n",
       "    <tr>\n",
       "      <th>DATE</th>\n",
       "      <th></th>\n",
       "      <th></th>\n",
       "    </tr>\n",
       "  </thead>\n",
       "  <tbody>\n",
       "    <tr>\n",
       "      <th>2000-01-03</th>\n",
       "      <td>6.38</td>\n",
       "      <td>6.58</td>\n",
       "    </tr>\n",
       "    <tr>\n",
       "      <th>2000-01-04</th>\n",
       "      <td>6.30</td>\n",
       "      <td>6.49</td>\n",
       "    </tr>\n",
       "    <tr>\n",
       "      <th>2000-01-05</th>\n",
       "      <td>6.38</td>\n",
       "      <td>6.62</td>\n",
       "    </tr>\n",
       "    <tr>\n",
       "      <th>2000-01-06</th>\n",
       "      <td>6.35</td>\n",
       "      <td>6.57</td>\n",
       "    </tr>\n",
       "    <tr>\n",
       "      <th>2000-01-07</th>\n",
       "      <td>6.31</td>\n",
       "      <td>6.52</td>\n",
       "    </tr>\n",
       "    <tr>\n",
       "      <th>...</th>\n",
       "      <td>...</td>\n",
       "      <td>...</td>\n",
       "    </tr>\n",
       "    <tr>\n",
       "      <th>2024-04-16</th>\n",
       "      <td>4.97</td>\n",
       "      <td>4.67</td>\n",
       "    </tr>\n",
       "    <tr>\n",
       "      <th>2024-04-17</th>\n",
       "      <td>4.93</td>\n",
       "      <td>4.59</td>\n",
       "    </tr>\n",
       "    <tr>\n",
       "      <th>2024-04-18</th>\n",
       "      <td>4.98</td>\n",
       "      <td>4.64</td>\n",
       "    </tr>\n",
       "    <tr>\n",
       "      <th>2024-04-19</th>\n",
       "      <td>4.97</td>\n",
       "      <td>4.62</td>\n",
       "    </tr>\n",
       "    <tr>\n",
       "      <th>2024-04-22</th>\n",
       "      <td>4.97</td>\n",
       "      <td>4.62</td>\n",
       "    </tr>\n",
       "  </tbody>\n",
       "</table>\n",
       "<p>6341 rows × 2 columns</p>\n",
       "</div>"
      ],
      "text/plain": [
       "            DGS2  DGS10\n",
       "DATE                   \n",
       "2000-01-03  6.38   6.58\n",
       "2000-01-04  6.30   6.49\n",
       "2000-01-05  6.38   6.62\n",
       "2000-01-06  6.35   6.57\n",
       "2000-01-07  6.31   6.52\n",
       "...          ...    ...\n",
       "2024-04-16  4.97   4.67\n",
       "2024-04-17  4.93   4.59\n",
       "2024-04-18  4.98   4.64\n",
       "2024-04-19  4.97   4.62\n",
       "2024-04-22  4.97   4.62\n",
       "\n",
       "[6341 rows x 2 columns]"
      ]
     },
     "execution_count": 40,
     "metadata": {},
     "output_type": "execute_result"
    }
   ],
   "source": [
    "df_dgs = df_dgs2.join(df_dgs10, on = 'DATE', how='inner')\n",
    "\n",
    "df_dgs"
   ]
  },
  {
   "cell_type": "code",
   "execution_count": 42,
   "id": "e8bca4a6",
   "metadata": {},
   "outputs": [
    {
     "data": {
      "text/html": [
       "<div>\n",
       "<style scoped>\n",
       "    .dataframe tbody tr th:only-of-type {\n",
       "        vertical-align: middle;\n",
       "    }\n",
       "\n",
       "    .dataframe tbody tr th {\n",
       "        vertical-align: top;\n",
       "    }\n",
       "\n",
       "    .dataframe thead th {\n",
       "        text-align: right;\n",
       "    }\n",
       "</style>\n",
       "<table border=\"1\" class=\"dataframe\">\n",
       "  <thead>\n",
       "    <tr style=\"text-align: right;\">\n",
       "      <th></th>\n",
       "      <th>DGS2</th>\n",
       "      <th>DGS10</th>\n",
       "      <th>dgs10-dgs2</th>\n",
       "    </tr>\n",
       "    <tr>\n",
       "      <th>DATE</th>\n",
       "      <th></th>\n",
       "      <th></th>\n",
       "      <th></th>\n",
       "    </tr>\n",
       "  </thead>\n",
       "  <tbody>\n",
       "    <tr>\n",
       "      <th>2000-01-03</th>\n",
       "      <td>6.38</td>\n",
       "      <td>6.58</td>\n",
       "      <td>0.20</td>\n",
       "    </tr>\n",
       "    <tr>\n",
       "      <th>2000-01-04</th>\n",
       "      <td>6.30</td>\n",
       "      <td>6.49</td>\n",
       "      <td>0.19</td>\n",
       "    </tr>\n",
       "    <tr>\n",
       "      <th>2000-01-05</th>\n",
       "      <td>6.38</td>\n",
       "      <td>6.62</td>\n",
       "      <td>0.24</td>\n",
       "    </tr>\n",
       "    <tr>\n",
       "      <th>2000-01-06</th>\n",
       "      <td>6.35</td>\n",
       "      <td>6.57</td>\n",
       "      <td>0.22</td>\n",
       "    </tr>\n",
       "    <tr>\n",
       "      <th>2000-01-07</th>\n",
       "      <td>6.31</td>\n",
       "      <td>6.52</td>\n",
       "      <td>0.21</td>\n",
       "    </tr>\n",
       "    <tr>\n",
       "      <th>...</th>\n",
       "      <td>...</td>\n",
       "      <td>...</td>\n",
       "      <td>...</td>\n",
       "    </tr>\n",
       "    <tr>\n",
       "      <th>2024-04-16</th>\n",
       "      <td>4.97</td>\n",
       "      <td>4.67</td>\n",
       "      <td>-0.30</td>\n",
       "    </tr>\n",
       "    <tr>\n",
       "      <th>2024-04-17</th>\n",
       "      <td>4.93</td>\n",
       "      <td>4.59</td>\n",
       "      <td>-0.34</td>\n",
       "    </tr>\n",
       "    <tr>\n",
       "      <th>2024-04-18</th>\n",
       "      <td>4.98</td>\n",
       "      <td>4.64</td>\n",
       "      <td>-0.34</td>\n",
       "    </tr>\n",
       "    <tr>\n",
       "      <th>2024-04-19</th>\n",
       "      <td>4.97</td>\n",
       "      <td>4.62</td>\n",
       "      <td>-0.35</td>\n",
       "    </tr>\n",
       "    <tr>\n",
       "      <th>2024-04-22</th>\n",
       "      <td>4.97</td>\n",
       "      <td>4.62</td>\n",
       "      <td>-0.35</td>\n",
       "    </tr>\n",
       "  </tbody>\n",
       "</table>\n",
       "<p>6341 rows × 3 columns</p>\n",
       "</div>"
      ],
      "text/plain": [
       "            DGS2  DGS10  dgs10-dgs2\n",
       "DATE                               \n",
       "2000-01-03  6.38   6.58        0.20\n",
       "2000-01-04  6.30   6.49        0.19\n",
       "2000-01-05  6.38   6.62        0.24\n",
       "2000-01-06  6.35   6.57        0.22\n",
       "2000-01-07  6.31   6.52        0.21\n",
       "...          ...    ...         ...\n",
       "2024-04-16  4.97   4.67       -0.30\n",
       "2024-04-17  4.93   4.59       -0.34\n",
       "2024-04-18  4.98   4.64       -0.34\n",
       "2024-04-19  4.97   4.62       -0.35\n",
       "2024-04-22  4.97   4.62       -0.35\n",
       "\n",
       "[6341 rows x 3 columns]"
      ]
     },
     "execution_count": 42,
     "metadata": {},
     "output_type": "execute_result"
    }
   ],
   "source": [
    "df_dgs['dgs10-dgs2'] = df_dgs['DGS10'] - df_dgs['DGS2']\n",
    "\n",
    "df_dgs"
   ]
  },
  {
   "cell_type": "code",
   "execution_count": 44,
   "id": "8fbfe181",
   "metadata": {},
   "outputs": [
    {
     "data": {
      "text/plain": [
       "-1.1"
      ]
     },
     "execution_count": 44,
     "metadata": {},
     "output_type": "execute_result"
    }
   ],
   "source": [
    "df_dgs['dgs10-dgs2'].min().round(1)"
   ]
  },
  {
   "cell_type": "markdown",
   "id": "a0f778a9",
   "metadata": {},
   "source": [
    "### Answer:\n",
    "- -1.1"
   ]
  },
  {
   "cell_type": "markdown",
   "id": "830cfc4d",
   "metadata": {},
   "source": [
    "## Question 3. [Index] Which Index is better recently?\n",
    "### Compare S&P 500 and IPC Mexico indexes by the 5 year growth and write down the largest value as an answer (%)\n",
    "\n",
    "Download on Yahoo Finance two daily index prices for S&P 500 (^GSPC, https://finance.yahoo.com/quote/%5EGSPC/) and IPC Mexico (^MXX, https://finance.yahoo.com/quote/%5EMXX/). Compare 5Y growth for both (between 2019-04-09 and 2024-04-09). Select the higher growing index and write down the growth in % (closest integer %). E.g. if ratio end/start was 2.0925 (or growth of 109.25%), you need to write down 109 as your answer.\n",
    "\n",
    "(Additional: think of other indexes and try to download stats and compare the growth? Do create 10Y and 20Y growth stats. What is an average yearly growth rate (CAGR) for each of the indexes you select?)"
   ]
  },
  {
   "cell_type": "code",
   "execution_count": 76,
   "id": "ad090c08",
   "metadata": {},
   "outputs": [],
   "source": [
    "import yfinance as yf"
   ]
  },
  {
   "cell_type": "code",
   "execution_count": 77,
   "id": "5ff9cb8a",
   "metadata": {},
   "outputs": [],
   "source": [
    "start = '2019-04-09'\n",
    "end = '2024-04-09'"
   ]
  },
  {
   "cell_type": "code",
   "execution_count": 78,
   "id": "210c85dd",
   "metadata": {},
   "outputs": [
    {
     "name": "stdout",
     "output_type": "stream",
     "text": [
      "[*********************100%***********************]  1 of 1 completed\n"
     ]
    }
   ],
   "source": [
    "sp500 = yf.download('^GSPC', start=start, end=end)\n",
    "\n",
    "sp500_growth = (sp500['Adj Close'][-1] / sp500['Adj Close'][0] - 1) * 100"
   ]
  },
  {
   "cell_type": "code",
   "execution_count": 79,
   "id": "52171d7e",
   "metadata": {},
   "outputs": [
    {
     "data": {
      "text/plain": [
       "80.75151917783086"
      ]
     },
     "execution_count": 79,
     "metadata": {},
     "output_type": "execute_result"
    }
   ],
   "source": [
    "sp500_growth"
   ]
  },
  {
   "cell_type": "code",
   "execution_count": 80,
   "id": "c4743f9a",
   "metadata": {},
   "outputs": [
    {
     "name": "stdout",
     "output_type": "stream",
     "text": [
      "[*********************100%***********************]  1 of 1 completed\n"
     ]
    }
   ],
   "source": [
    "ipc_mexico = yf.download('^MXX', start=start, end=end)\n",
    "\n",
    "ipc_mexico_growth = (ipc_mexico['Adj Close'][-1] / ipc_mexico['Adj Close'][0] - 1) * 100"
   ]
  },
  {
   "cell_type": "code",
   "execution_count": 81,
   "id": "84c9e31a",
   "metadata": {},
   "outputs": [
    {
     "data": {
      "text/plain": [
       "28.43377484045295"
      ]
     },
     "execution_count": 81,
     "metadata": {},
     "output_type": "execute_result"
    }
   ],
   "source": [
    "ipc_mexico_growth"
   ]
  },
  {
   "cell_type": "markdown",
   "id": "d4aed8c8",
   "metadata": {},
   "source": [
    "### Answer:\n",
    "- 81%"
   ]
  },
  {
   "cell_type": "markdown",
   "id": "52b13fcc",
   "metadata": {},
   "source": [
    "## Question 4. [Stocks OHLCV] 52-weeks range ratio (2023) for the selected stocks\n",
    "### Find the largest range ratio [=(max-min)/max] of Adj.Close prices in 2023\n",
    "\n",
    "Download the 2023 daily OHLCV data on Yahoo Finance for top6 stocks on earnings (https://companiesmarketcap.com/most-profitable-companies/): 2222.SR,BRK-B, AAPL, MSFT, GOOG, JPM.\n",
    "\n",
    "Here is the example data you should see in Pandas for \"2222.SR\": https://finance.yahoo.com/quote/2222.SR/history\n",
    "\n",
    "Calculate maximum-minimim \"Adj.Close\" price for each stock and divide it by the maximum \"Adj.Close\" value. Round the result to two decimal places (e.g. 0.1575 will be 0.16)\n",
    "\n",
    "(Additional: why this may be important for your research?)"
   ]
  },
  {
   "cell_type": "code",
   "execution_count": 82,
   "id": "e8be869b",
   "metadata": {},
   "outputs": [
    {
     "name": "stdout",
     "output_type": "stream",
     "text": [
      "[*********************100%***********************]  1 of 1 completed\n",
      "[*********************100%***********************]  1 of 1 completed\n",
      "[*********************100%***********************]  1 of 1 completed\n",
      "[*********************100%***********************]  1 of 1 completed\n",
      "[*********************100%***********************]  1 of 1 completed\n",
      "[*********************100%***********************]  1 of 1 completed\n"
     ]
    }
   ],
   "source": [
    "tickers = ['2222.SR', 'BRK-B', 'AAPL', 'MSFT', 'GOOG', 'JPM']\n",
    "\n",
    "result = {}\n",
    "\n",
    "for ticker in tickers:\n",
    "    data = yf.download(ticker, start='2023-01-01', end='2023-12-31')\n",
    "    \n",
    "    max_adj_close = data['Adj Close'].max()\n",
    "    min_adj_close = data['Adj Close'].min()\n",
    "    \n",
    "    #  (max - min) / max\n",
    "    range_ratio = (max_adj_close - min_adj_close) / max_adj_close\n",
    "    \n",
    "    # round 2\n",
    "    result[ticker] = round(range_ratio, 2)\n",
    "\n",
    "# Найти наибольший диапазон отношения\n",
    "largest_range_ratio = max(result.values())"
   ]
  },
  {
   "cell_type": "code",
   "execution_count": 84,
   "id": "93c4c8cb",
   "metadata": {},
   "outputs": [
    {
     "data": {
      "text/plain": [
       "{'2222.SR': 0.21,\n",
       " 'BRK-B': 0.21,\n",
       " 'AAPL': 0.37,\n",
       " 'MSFT': 0.42,\n",
       " 'GOOG': 0.39,\n",
       " 'JPM': 0.28}"
      ]
     },
     "execution_count": 84,
     "metadata": {},
     "output_type": "execute_result"
    }
   ],
   "source": [
    "result"
   ]
  },
  {
   "cell_type": "code",
   "execution_count": 83,
   "id": "97446265",
   "metadata": {},
   "outputs": [
    {
     "data": {
      "text/plain": [
       "0.42"
      ]
     },
     "execution_count": 83,
     "metadata": {},
     "output_type": "execute_result"
    }
   ],
   "source": [
    "largest_range_ratio"
   ]
  },
  {
   "cell_type": "markdown",
   "id": "415b75c8",
   "metadata": {},
   "source": [
    "### Answer: \n",
    "- 0.42"
   ]
  },
  {
   "cell_type": "markdown",
   "id": "bfd293a4",
   "metadata": {},
   "source": [
    "## Question 5. [Stocks] Dividend Yield\n",
    "### Find the largest dividend yield for the same set of stocks\n",
    "\n",
    "Use the same list of companies (2222.SR,BRK-B, AAPL, MSFT, GOOG, JPM) and download all dividends paid in 2023. You can use get_actions() method or .dividends field in yfinance library (https://github.com/ranaroussi/yfinance?tab=readme-ov-file#quick-start)\n",
    "\n",
    "Sum up all dividends paid in 2023 per company and divide each value by the closing price (Adj.Close) at the last trading day of the year.\n",
    "\n",
    "Find the maximm value in % and round to 1 digit after the decimal point. (E.g., if you obtained $1.25 dividends paid and the end year stock price is $100, the dividend yield is 1.25% -- and your answer should be equal to 1.3)"
   ]
  },
  {
   "cell_type": "code",
   "execution_count": 114,
   "id": "2382dbc2",
   "metadata": {},
   "outputs": [
    {
     "data": {
      "text/plain": [
       "Date\n",
       "2023-01-05 00:00:00-05:00    1.00\n",
       "2023-04-05 00:00:00-04:00    1.00\n",
       "2023-07-05 00:00:00-04:00    1.00\n",
       "2023-10-05 00:00:00-04:00    1.05\n",
       "Name: Dividends, dtype: float64"
      ]
     },
     "execution_count": 114,
     "metadata": {},
     "output_type": "execute_result"
    }
   ],
   "source": [
    "div_data = yf.Ticker('JPM')\n",
    "div_data.dividends.loc['2023-01-01':'2023-12-31']"
   ]
  },
  {
   "cell_type": "code",
   "execution_count": 115,
   "id": "2cdca7d0",
   "metadata": {},
   "outputs": [
    {
     "data": {
      "text/plain": [
       "Date\n",
       "2023-03-15 00:00:00+03:00    0.302364\n",
       "2023-05-17 00:00:00+03:00    0.302400\n",
       "2023-09-11 00:00:00+03:00    0.153000\n",
       "2023-11-15 00:00:00+03:00    0.153000\n",
       "Name: Dividends, dtype: float64"
      ]
     },
     "execution_count": 115,
     "metadata": {},
     "output_type": "execute_result"
    }
   ],
   "source": [
    "div_data = yf.Ticker('2222.SR')\n",
    "div_data.dividends.loc['2023-01-01':'2023-12-31']"
   ]
  },
  {
   "cell_type": "code",
   "execution_count": 116,
   "id": "c4d1d3c1",
   "metadata": {},
   "outputs": [
    {
     "data": {
      "text/plain": [
       "Series([], Name: Dividends, dtype: float64)"
      ]
     },
     "execution_count": 116,
     "metadata": {},
     "output_type": "execute_result"
    }
   ],
   "source": [
    "div_data = yf.Ticker('BRK-B')\n",
    "div_data.dividends.loc['2023-01-01':'2023-12-31']"
   ]
  },
  {
   "cell_type": "code",
   "execution_count": 117,
   "id": "7e0e3b64",
   "metadata": {},
   "outputs": [
    {
     "data": {
      "text/plain": [
       "Date\n",
       "2023-02-10 00:00:00-05:00    0.23\n",
       "2023-05-12 00:00:00-04:00    0.24\n",
       "2023-08-11 00:00:00-04:00    0.24\n",
       "2023-11-10 00:00:00-05:00    0.24\n",
       "Name: Dividends, dtype: float64"
      ]
     },
     "execution_count": 117,
     "metadata": {},
     "output_type": "execute_result"
    }
   ],
   "source": [
    "div_data = yf.Ticker('AAPL')\n",
    "div_data.dividends.loc['2023-01-01':'2023-12-31']"
   ]
  },
  {
   "cell_type": "code",
   "execution_count": null,
   "id": "b06ae062",
   "metadata": {},
   "outputs": [],
   "source": [
    "div_data = yf.Ticker('2222.SR')\n",
    "div_data.dividends.loc['2023-01-01':'2023-12-31']"
   ]
  },
  {
   "cell_type": "code",
   "execution_count": 124,
   "id": "bed21fc3",
   "metadata": {},
   "outputs": [
    {
     "name": "stdout",
     "output_type": "stream",
     "text": [
      "Max div yield in 2023: 2.9%\n"
     ]
    }
   ],
   "source": [
    "import yfinance as yf\n",
    "\n",
    "# list of tickets\n",
    "tickers = ['2222.SR', 'BRK-B', 'AAPL', 'MSFT', 'GOOG', 'JPM']\n",
    "\n",
    "dividend_yield = {}\n",
    "\n",
    "# loading dividend data for each tickets and count agg close price in 2023\n",
    "for ticker in tickers:\n",
    "    try:\n",
    "        # loading dividend data for particular tickets in 2023 \n",
    "        div_data = yf.Ticker(ticker).dividends\n",
    "        div_2023 = div_data.loc['2023']\n",
    "\n",
    "        # Check if there's div data for particular tickets\n",
    "        if not div_2023.empty:\n",
    "            # Loading close price data in 2023 \n",
    "            close_price_data = yf.Ticker(ticker).history(start='2023-01-01', end='2023-12-31')['Close']\n",
    "\n",
    "            # Check if there's close price data for particular tickets\n",
    "            if not close_price_data.empty:\n",
    "                # Calculate agg close price in 2023\n",
    "                average_close_price_2023 = close_price_data.mean()\n",
    "\n",
    "                # Summarize of ticket's dividend in 2023\n",
    "                total_dividends = div_2023.sum()\n",
    "\n",
    "                # Dividend ratio for particular ticket\n",
    "                yield_percentage = (total_dividends / average_close_price_2023) * 100\n",
    "\n",
    "                dividend_yield[ticker] = yield_percentage\n",
    "    except Exception as e:\n",
    "        print(f\"Error while reading ticket data {ticker}: {e}\")\n",
    "\n",
    "if dividend_yield:\n",
    "    # Find max dividend yeald\n",
    "    max_yield = max(dividend_yield.values())\n",
    "\n",
    "    max_yield_rounded = round(max_yield, 1)\n",
    "\n",
    "    print(\"Max div yield in 2023: {}%\".format(max_yield_rounded))\n",
    "else:\n",
    "    print(\"Error dividend data\")\n"
   ]
  },
  {
   "cell_type": "markdown",
   "id": "f259582b",
   "metadata": {},
   "source": [
    "## Question 6. [Exploratory] Investigate new metrics\n",
    "### Free text answer\n",
    "\n",
    "Download and explore a few additional metrics or time series that might be valuable for your project and write down why (briefly)."
   ]
  },
  {
   "cell_type": "code",
   "execution_count": null,
   "id": "aeb8805e",
   "metadata": {},
   "outputs": [],
   "source": []
  },
  {
   "cell_type": "markdown",
   "id": "3aba4539",
   "metadata": {},
   "source": [
    "## Question 7. [Exploratory] Time-driven strategy description around earnings releases\n",
    "### Free text answer\n",
    "\n",
    "Explore earning dates for the whole month of April - e.g. using YahooFinance earnings calendar (https://finance.yahoo.com/calendar/earnings?from=2024-04-21&to=2024-04-27&day=2024-04-23). Compare with the previous closed earnings (e.g., recent dates with full data https://finance.yahoo.com/calendar/earnings?from=2024-04-07&to=2024-04-13&day=2024-04-08).\n",
    "\n",
    "Describe an analytical strategy/idea (you're not required to implement it) to select a subset companies of interest based on the future events data."
   ]
  },
  {
   "cell_type": "code",
   "execution_count": null,
   "id": "55ef60d8",
   "metadata": {},
   "outputs": [],
   "source": []
  },
  {
   "cell_type": "code",
   "execution_count": null,
   "id": "fc034335",
   "metadata": {},
   "outputs": [],
   "source": []
  }
 ],
 "metadata": {
  "kernelspec": {
   "display_name": "Python 3 (ipykernel)",
   "language": "python",
   "name": "python3"
  },
  "language_info": {
   "codemirror_mode": {
    "name": "ipython",
    "version": 3
   },
   "file_extension": ".py",
   "mimetype": "text/x-python",
   "name": "python",
   "nbconvert_exporter": "python",
   "pygments_lexer": "ipython3",
   "version": "3.8.10"
  }
 },
 "nbformat": 4,
 "nbformat_minor": 5
}
